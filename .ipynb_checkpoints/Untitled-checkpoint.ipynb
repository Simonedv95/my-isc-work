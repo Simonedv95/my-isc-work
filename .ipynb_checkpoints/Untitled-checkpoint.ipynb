{
 "cells": [
  {
   "cell_type": "code",
   "execution_count": 2,
   "id": "46e6495a-8dfe-47b7-a16e-b56db48353b1",
   "metadata": {},
   "outputs": [
    {
     "data": {
      "text/plain": [
       "4"
      ]
     },
     "execution_count": 2,
     "metadata": {},
     "output_type": "execute_result"
    }
   ],
   "source": [
    "2 +2"
   ]
  },
  {
   "cell_type": "code",
   "execution_count": 4,
   "id": "cdb7ad4f-1537-40bf-87f5-c50d9e8a93f2",
   "metadata": {},
   "outputs": [],
   "source": [
    "a = 1\n",
    "b = 5"
   ]
  },
  {
   "cell_type": "markdown",
   "id": "efd013b5-058d-4adc-bb8b-cb4fba73a0d7",
   "metadata": {},
   "source": [
    "a +3 "
   ]
  },
  {
   "cell_type": "code",
   "execution_count": null,
   "id": "f4a1401d-50bb-4994-b9e2-e8aae5dc6b84",
   "metadata": {},
   "outputs": [],
   "source": [
    "#dd"
   ]
  },
  {
   "cell_type": "code",
   "execution_count": null,
   "id": "8a4bc4bc-59be-4e7b-a2ce-b6a36ac28f04",
   "metadata": {},
   "outputs": [],
   "source": []
  },
  {
   "cell_type": "code",
   "execution_count": null,
   "id": "cfb1c734-6ff9-457e-be94-5a27053934fb",
   "metadata": {},
   "outputs": [],
   "source": []
  }
 ],
 "metadata": {
  "kernelspec": {
   "display_name": "Python 3 (ipykernel)",
   "language": "python",
   "name": "python3"
  },
  "language_info": {
   "codemirror_mode": {
    "name": "ipython",
    "version": 3
   },
   "file_extension": ".py",
   "mimetype": "text/x-python",
   "name": "python",
   "nbconvert_exporter": "python",
   "pygments_lexer": "ipython3",
   "version": "3.9.13"
  }
 },
 "nbformat": 4,
 "nbformat_minor": 5
}
