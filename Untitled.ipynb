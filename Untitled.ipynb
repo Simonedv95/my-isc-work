{
 "cells": [
  {
   "cell_type": "code",
   "execution_count": 2,
   "id": "46e6495a-8dfe-47b7-a16e-b56db48353b1",
   "metadata": {},
   "outputs": [
    {
     "data": {
      "text/plain": [
       "4"
      ]
     },
     "execution_count": 2,
     "metadata": {},
     "output_type": "execute_result"
    }
   ],
   "source": [
    "2 +2"
   ]
  },
  {
   "cell_type": "code",
   "execution_count": 4,
   "id": "cdb7ad4f-1537-40bf-87f5-c50d9e8a93f2",
   "metadata": {},
   "outputs": [],
   "source": [
    "a = 1\n",
    "b = 5"
   ]
  },
  {
   "cell_type": "markdown",
   "id": "efd013b5-058d-4adc-bb8b-cb4fba73a0d7",
   "metadata": {},
   "source": [
    "a +3 "
   ]
  },
  {
   "cell_type": "code",
   "execution_count": null,
   "id": "8a4bc4bc-59be-4e7b-a2ce-b6a36ac28f04",
   "metadata": {},
   "outputs": [],
   "source": [
    "#ex01"
   ]
  },
  {
   "cell_type": "code",
   "execution_count": 9,
   "id": "cfb1c734-6ff9-457e-be94-5a27053934fb",
   "metadata": {},
   "outputs": [
    {
     "name": "stdout",
     "output_type": "stream",
     "text": [
      "python 10\n"
     ]
    }
   ],
   "source": [
    "course = \"python\"\n",
    "rating = 10 \n",
    "\n",
    "print(course, rating)\n"
   ]
  },
  {
   "cell_type": "code",
   "execution_count": 13,
   "id": "bd5e5d37-711b-40ee-b456-2f7067303aca",
   "metadata": {},
   "outputs": [
    {
     "name": "stdout",
     "output_type": "stream",
     "text": [
      "25\n"
     ]
    }
   ],
   "source": [
    "b = 3\n",
    "c = 4\n",
    "\n",
    "a = b**2 + c**2\n",
    "print(a)\n"
   ]
  },
  {
   "cell_type": "code",
   "execution_count": 18,
   "id": "8a44401b-4216-4780-8e58-a9c8db5f8047",
   "metadata": {},
   "outputs": [
    {
     "data": {
      "text/plain": [
       "5.0"
      ]
     },
     "execution_count": 18,
     "metadata": {},
     "output_type": "execute_result"
    }
   ],
   "source": [
    "\n",
    "import math\n",
    "math.sqrt(a)\n"
   ]
  },
  {
   "cell_type": "code",
   "execution_count": 19,
   "id": "f32be80d-086a-4226-a6f3-c686abbf3f46",
   "metadata": {},
   "outputs": [
    {
     "data": {
      "text/plain": [
       "25"
      ]
     },
     "execution_count": 19,
     "metadata": {},
     "output_type": "execute_result"
    }
   ],
   "source": [
    "int(a)\n"
   ]
  },
  {
   "cell_type": "code",
   "execution_count": 20,
   "id": "1fa0dc79-ba38-48e7-acab-c4ae038d9f2c",
   "metadata": {},
   "outputs": [],
   "source": [
    "a = math.sqrt(a)\n"
   ]
  },
  {
   "cell_type": "code",
   "execution_count": 21,
   "id": "3f22856c-d27b-44d5-acf1-e22c91aa8141",
   "metadata": {},
   "outputs": [
    {
     "data": {
      "text/plain": [
       "5.0"
      ]
     },
     "execution_count": 21,
     "metadata": {},
     "output_type": "execute_result"
    }
   ],
   "source": [
    "a\n"
   ]
  },
  {
   "cell_type": "code",
   "execution_count": 22,
   "id": "8c28ad48-8064-4a9d-9f75-a54601067d9a",
   "metadata": {},
   "outputs": [
    {
     "data": {
      "text/plain": [
       "5"
      ]
     },
     "execution_count": 22,
     "metadata": {},
     "output_type": "execute_result"
    }
   ],
   "source": [
    "int(a)\n"
   ]
  },
  {
   "cell_type": "code",
   "execution_count": 26,
   "id": "4b3e526e-e7f6-4e4a-83ba-26ab0cd2fd1a",
   "metadata": {},
   "outputs": [
    {
     "ename": "SyntaxError",
     "evalue": "unexpected EOF while parsing (3884565364.py, line 1)",
     "output_type": "error",
     "traceback": [
      "\u001b[0;36m  Cell \u001b[0;32mIn [26], line 1\u001b[0;36m\u001b[0m\n\u001b[0;31m    print(a + str(\"squared equals\") #+ b + str(squared) + c + str(squared.))\u001b[0m\n\u001b[0m                                                                            ^\u001b[0m\n\u001b[0;31mSyntaxError\u001b[0m\u001b[0;31m:\u001b[0m unexpected EOF while parsing\n"
     ]
    }
   ],
   "source": [
    "print(a + str(\"squared equals\") #+ b + str(squared) + c + str(squared.))\n"
   ]
  },
  {
   "cell_type": "code",
   "execution_count": 27,
   "id": "fe53d23e-a9c1-4ec4-8c46-c49f6331c96e",
   "metadata": {},
   "outputs": [
    {
     "data": {
      "text/plain": [
       "float"
      ]
     },
     "execution_count": 27,
     "metadata": {},
     "output_type": "execute_result"
    }
   ],
   "source": [
    "type(a)\n"
   ]
  },
  {
   "cell_type": "code",
   "execution_count": 28,
   "id": "db24df8d-e8c0-45df-9779-199d2815c5ee",
   "metadata": {},
   "outputs": [
    {
     "data": {
      "text/plain": [
       "5.0"
      ]
     },
     "execution_count": 28,
     "metadata": {},
     "output_type": "execute_result"
    }
   ],
   "source": [
    "a\n"
   ]
  },
  {
   "cell_type": "code",
   "execution_count": 30,
   "id": "184db43b-30cb-4d9d-b45f-26649643aea9",
   "metadata": {},
   "outputs": [
    {
     "name": "stdout",
     "output_type": "stream",
     "text": [
      "5.0 squared equals 3 squared + 4 squared.\n"
     ]
    }
   ],
   "source": [
    "print(str(a) + \" squared equals \" + str(b) + \" squared + \" + str(c) + \" squared.\")"
   ]
  },
  {
   "cell_type": "code",
   "execution_count": 31,
   "id": "80db60a8-d9dc-45b6-834d-9a29c1248071",
   "metadata": {},
   "outputs": [
    {
     "name": "stdout",
     "output_type": "stream",
     "text": [
      "5.0 squared equals 3 squared + 4 squared.\n"
     ]
    }
   ],
   "source": [
    "print(a, \"squared equals\", b, \"squared +\", c, \"squared.\")"
   ]
  },
  {
   "cell_type": "code",
   "execution_count": null,
   "id": "df099119-88f7-4659-b34c-fd12a5ea40e2",
   "metadata": {},
   "outputs": [],
   "source": [
    "\n",
    "x =  3\n",
    "while x >0: \n",
    "    print(x)\n",
    "    x -= 1 \n",
    "    \n",
    "    "
   ]
  },
  {
   "cell_type": "code",
   "execution_count": null,
   "id": "073744b0-9c2b-4475-a300-2afce9eddaf8",
   "metadata": {},
   "outputs": [],
   "source": [
    "gases = ['He','Ne','Ar','Kr']\n",
    "count = 0 \n",
    "\n",
    "#while count <4:\n",
    "#    print(count)\n",
    "#    count += 1\n",
    "#    break count = 0\n",
    "\n",
    "while gases <4:\n",
    "    print(\"item\")\n",
    "    break if i = 4 \n",
    "    "
   ]
  },
  {
   "cell_type": "code",
   "execution_count": null,
   "id": "04346601-4da0-4bb5-a66f-27130c11463c",
   "metadata": {},
   "outputs": [],
   "source": [
    "gases = ['He','Ne','Ar','Kr']\n",
    "\n",
    "while gases == ['He','Ne','Ar','Kr']:\n",
    "    print(item)\n",
    "    if gases == 4 \n",
    "        break"
   ]
  },
  {
   "cell_type": "code",
   "execution_count": null,
   "id": "e379bfd2-947b-44f9-ac97-95b3f74a2bc2",
   "metadata": {},
   "outputs": [],
   "source": [
    "while gases == ['He','Ne','Ar','Kr']:\n",
    "    print(\"item\")"
   ]
  },
  {
   "cell_type": "code",
   "execution_count": null,
   "id": "91c89750-bf10-48ae-9ef2-e5a32a0f3cbe",
   "metadata": {},
   "outputs": [],
   "source": [
    "while gases == gases: \n",
    "    print(\"item\")\n",
    "    "
   ]
  },
  {
   "cell_type": "code",
   "execution_count": null,
   "id": "69cc7f82-63f5-4427-a6b5-a6a1ad26a958",
   "metadata": {},
   "outputs": [],
   "source": [
    "print(\"x\")\n"
   ]
  },
  {
   "cell_type": "code",
   "execution_count": null,
   "id": "70217bc2-1ba6-4992-a35b-1c5dcdea6bbf",
   "metadata": {},
   "outputs": [],
   "source": []
  }
 ],
 "metadata": {
  "kernelspec": {
   "display_name": "Python 3 (ipykernel)",
   "language": "python",
   "name": "python3"
  },
  "language_info": {
   "codemirror_mode": {
    "name": "ipython",
    "version": 3
   },
   "file_extension": ".py",
   "mimetype": "text/x-python",
   "name": "python",
   "nbconvert_exporter": "python",
   "pygments_lexer": "ipython3",
   "version": "3.9.13"
  }
 },
 "nbformat": 4,
 "nbformat_minor": 5
}
